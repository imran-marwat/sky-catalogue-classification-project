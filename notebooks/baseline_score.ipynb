{
 "cells": [
  {
   "cell_type": "code",
   "execution_count": 16,
   "metadata": {},
   "outputs": [],
   "source": [
    "import numpy as np\n",
    "import pandas as pd\n",
    "from sklearn.metrics import confusion_matrix\n",
    "from astropy.io import ascii\n",
    "from utils import col_names, relevant_indices, normalise_sdss_class"
   ]
  },
  {
   "cell_type": "code",
   "execution_count": 3,
   "metadata": {},
   "outputs": [],
   "source": [
    "datasets = \"../datasets/SuperCOSMOS/\""
   ]
  },
  {
   "cell_type": "code",
   "execution_count": 4,
   "metadata": {},
   "outputs": [
    {
     "name": "stdout",
     "output_type": "stream",
     "text": [
      "CPU times: user 3.86 s, sys: 151 ms, total: 4.01 s\n",
      "Wall time: 4.01 s\n"
     ]
    }
   ],
   "source": [
    "%%time\n",
    "uki823_df = ascii.read(datasets + \"UKI823/sssedrpair.dat\").to_pandas()\n",
    "ukr823_df = ascii.read(datasets + \"UKR823/sssedrpair.dat\").to_pandas()\n",
    "ukj823_df = ascii.read(datasets + \"UKJ823/sssedrpair.dat\").to_pandas()"
   ]
  },
  {
   "cell_type": "code",
   "execution_count": 5,
   "metadata": {},
   "outputs": [],
   "source": [
    "uki823_df.columns = col_names\n",
    "ukr823_df.columns = col_names\n",
    "ukj823_df.columns = col_names"
   ]
  },
  {
   "cell_type": "code",
   "execution_count": 20,
   "metadata": {},
   "outputs": [
    {
     "data": {
      "text/plain": [
       "array([[4537, 3612,    0,    0],\n",
       "       [1225, 6191,    0,    0],\n",
       "       [  11,    2,    0,    0],\n",
       "       [  40,   27,    0,    0]])"
      ]
     },
     "execution_count": 20,
     "metadata": {},
     "output_type": "execute_result"
    }
   ],
   "source": [
    "uki823_df[['CLASS', 'CLASS_SDSS']]\n",
    "confusion_matrix(uki823_df['CLASS'], uki823_df['CLASS_SDSS'])"
   ]
  }
 ],
 "metadata": {
  "kernelspec": {
   "display_name": "Python 3",
   "language": "python",
   "name": "python3"
  },
  "language_info": {
   "codemirror_mode": {
    "name": "ipython",
    "version": 3
   },
   "file_extension": ".py",
   "mimetype": "text/x-python",
   "name": "python",
   "nbconvert_exporter": "python",
   "pygments_lexer": "ipython3",
   "version": "3.6.8"
  }
 },
 "nbformat": 4,
 "nbformat_minor": 2
}
