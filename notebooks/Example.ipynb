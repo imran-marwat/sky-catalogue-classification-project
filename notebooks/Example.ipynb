{
 "cells": [
  {
   "cell_type": "code",
   "execution_count": 19,
   "metadata": {},
   "outputs": [],
   "source": [
    "from astropy.io import fits\n",
    "from astropy.table import Table\n",
    "import pandas as pd\n",
    "import numpy as np"
   ]
  },
  {
   "cell_type": "code",
   "execution_count": 3,
   "metadata": {},
   "outputs": [],
   "source": [
    "dataset_dir = \"../datasets/\""
   ]
  },
  {
   "cell_type": "code",
   "execution_count": 14,
   "metadata": {},
   "outputs": [],
   "source": [
    "ex_table = Table.read(dataset_dir + \"82670.fits/82670.fits\", format='fits').to_pandas()"
   ]
  },
  {
   "cell_type": "code",
   "execution_count": 26,
   "metadata": {},
   "outputs": [
    {
     "data": {
      "text/plain": [
       "Index(['RA', 'DEC', 'EPOCH', 'MU_ACOSD', 'MU_D', 'SIGMU_A', 'SIGMU_D', 'B_J',\n",
       "       'R_1', 'R_2', 'I', 'AREA', 'A_I', 'B_I', 'PA', 'CLASS', 'N_0_1',\n",
       "       'BLEND', 'QUALITY', 'FIELD'],\n",
       "      dtype='object')"
      ]
     },
     "execution_count": 26,
     "metadata": {},
     "output_type": "execute_result"
    }
   ],
   "source": [
    "ex_table.columns"
   ]
  },
  {
   "cell_type": "code",
   "execution_count": 30,
   "metadata": {},
   "outputs": [
    {
     "data": {
      "text/plain": [
       "0                NaN\n",
       "1                NaN\n",
       "2                NaN\n",
       "3                NaN\n",
       "4                NaN\n",
       "5                NaN\n",
       "6                NaN\n",
       "7                NaN\n",
       "8                NaN\n",
       "9                NaN\n",
       "10               NaN\n",
       "11               NaN\n",
       "12               NaN\n",
       "13               NaN\n",
       "14               NaN\n",
       "15               NaN\n",
       "16               NaN\n",
       "17               NaN\n",
       "18               NaN\n",
       "19               NaN\n",
       "20               NaN\n",
       "21               NaN\n",
       "22               NaN\n",
       "23               NaN\n",
       "24               NaN\n",
       "25               NaN\n",
       "26               NaN\n",
       "27               NaN\n",
       "28               NaN\n",
       "29               NaN\n",
       "             ...    \n",
       "1108281          NaN\n",
       "1108282          NaN\n",
       "1108283          NaN\n",
       "1108284          NaN\n",
       "1108285          NaN\n",
       "1108286          NaN\n",
       "1108287          NaN\n",
       "1108288          NaN\n",
       "1108289          NaN\n",
       "1108290    18.488001\n",
       "1108291          NaN\n",
       "1108292          NaN\n",
       "1108293          NaN\n",
       "1108294          NaN\n",
       "1108295          NaN\n",
       "1108296          NaN\n",
       "1108297          NaN\n",
       "1108298          NaN\n",
       "1108299          NaN\n",
       "1108300          NaN\n",
       "1108301          NaN\n",
       "1108302          NaN\n",
       "1108303          NaN\n",
       "1108304          NaN\n",
       "1108305          NaN\n",
       "1108306          NaN\n",
       "1108307          NaN\n",
       "1108308          NaN\n",
       "1108309          NaN\n",
       "1108310          NaN\n",
       "Name: I, Length: 1108311, dtype: float32"
      ]
     },
     "execution_count": 30,
     "metadata": {},
     "output_type": "execute_result"
    }
   ],
   "source": [
    "ex_table[\"I\"].replace(99.999001, np.nan)"
   ]
  }
 ],
 "metadata": {
  "kernelspec": {
   "display_name": "Python 3",
   "language": "python",
   "name": "python3"
  },
  "language_info": {
   "codemirror_mode": {
    "name": "ipython",
    "version": 3
   },
   "file_extension": ".py",
   "mimetype": "text/x-python",
   "name": "python",
   "nbconvert_exporter": "python",
   "pygments_lexer": "ipython3",
   "version": "3.6.8"
  }
 },
 "nbformat": 4,
 "nbformat_minor": 2
}
